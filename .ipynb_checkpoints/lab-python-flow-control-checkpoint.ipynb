{
 "cells": [
  {
   "cell_type": "markdown",
   "id": "d3bfc191-8885-42ee-b0a0-bbab867c6f9f",
   "metadata": {
    "tags": []
   },
   "source": [
    "# Lab | Flow Control"
   ]
  },
  {
   "cell_type": "markdown",
   "id": "3851fcd1-cf98-4653-9c89-e003b7ec9400",
   "metadata": {},
   "source": [
    "## Exercise: Managing Customer Orders Optimized\n",
    "\n",
    "In the last lab, you were starting an online store that sells various products. To ensure smooth operations, you developed a program that manages customer orders and inventory.\n",
    "\n",
    "You did so without using flow control. Let's go a step further and improve this code.\n",
    "\n",
    "Follow the steps below to complete the exercise:\n",
    "\n",
    "1. Look at your code from the lab data structures, and improve repeated code with loops.\n",
    "\n",
    "2. Instead of asking the user to input the name of three products that a customer wants to order, do the following:\n",
    "    \n",
    "    a. Prompt the user to enter the name of a product that a customer wants to order.\n",
    "    \n",
    "    b. Add the product name to the \"customer_orders\" set.\n",
    "    \n",
    "    c. Ask the user if they want to add another product (yes/no).\n",
    "    \n",
    "    d. Continue the loop until the user does not want to add another product.\n",
    "\n",
    "3. Instead of updating the inventory by subtracting 1 from the quantity of each product, only do it for  the products that were ordered (those in \"customer_orders\")."
   ]
  },
  {
   "cell_type": "code",
   "execution_count": 82,
   "id": "786fbba4-e7f0-48e0-a068-355963669dad",
   "metadata": {},
   "outputs": [
    {
     "name": "stdout",
     "output_type": "stream",
     "text": [
      "['t-shirt', 'mug', 'hat', 'book', 'keychain']\n"
     ]
    },
    {
     "name": "stdin",
     "output_type": "stream",
     "text": [
      "Quantity of t-shirt: 45\n",
      "Quantity of mug: 35\n",
      "Quantity of hat: 36\n",
      "Quantity of book: 234\n",
      "Quantity of keychain: 12\n"
     ]
    }
   ],
   "source": [
    "products = [\"t-shirt\",\"mug\",\"hat\",\"book\",\"keychain\"]\n",
    "print(products)\n",
    "inventory = {}\n",
    "for product in products:\n",
    "    inventory[product] = int(input(f\"Quantity of {product}:\"))              "
   ]
  },
  {
   "cell_type": "code",
   "execution_count": 83,
   "id": "9fd35ef6-de9f-4740-86a4-687466a97697",
   "metadata": {},
   "outputs": [
    {
     "data": {
      "text/plain": [
       "{'t-shirt': 45, 'mug': 35, 'hat': 36, 'book': 234, 'keychain': 12}"
      ]
     },
     "execution_count": 83,
     "metadata": {},
     "output_type": "execute_result"
    }
   ],
   "source": [
    "inventory"
   ]
  },
  {
   "cell_type": "code",
   "execution_count": 84,
   "id": "401c849d-0ecc-4449-8e53-fb66dede3f02",
   "metadata": {},
   "outputs": [],
   "source": [
    "#The while True loop alllows a block of code to be repeated indefinitely. \n",
    "#It is used with a break statement which allows the loop to be exited under certain condition "
   ]
  },
  {
   "cell_type": "code",
   "execution_count": 85,
   "id": "bf1d1eb8-2d14-4a13-9a81-f1f2d569f5dd",
   "metadata": {},
   "outputs": [
    {
     "name": "stdin",
     "output_type": "stream",
     "text": [
      "Name of your order: hat\n",
      "Do you want to add another product? (yes/no): yes\n",
      "Name of your order: keychain\n",
      "Do you want to add another product? (yes/no): yes\n",
      "Name of your order: mug\n",
      "Do you want to add another product? (yes/no): no\n"
     ]
    }
   ],
   "source": [
    "customer_orders=set()\n",
    "while True:\n",
    "    order = input(\"Name of your order:\")\n",
    "    customer_orders.add(order)\n",
    "    answer = input(\"Do you want to add another product? (yes/no):\")\n",
    "    if answer == \"no\":\n",
    "        break\n",
    "    \n",
    "    "
   ]
  },
  {
   "cell_type": "code",
   "execution_count": 86,
   "id": "4565599b-2f5c-4f04-afc8-b4c7f355509a",
   "metadata": {},
   "outputs": [
    {
     "name": "stdout",
     "output_type": "stream",
     "text": [
      "{'mug', 'keychain', 'hat'}\n"
     ]
    }
   ],
   "source": [
    "print(customer_orders)"
   ]
  },
  {
   "cell_type": "code",
   "execution_count": 87,
   "id": "328724aa-fc0f-48ae-a979-2e9f8ed00a4e",
   "metadata": {},
   "outputs": [
    {
     "data": {
      "text/plain": [
       "3"
      ]
     },
     "execution_count": 87,
     "metadata": {},
     "output_type": "execute_result"
    }
   ],
   "source": [
    "len(customer_orders)"
   ]
  },
  {
   "cell_type": "code",
   "execution_count": 88,
   "id": "68232f2d-9707-4d20-baab-95823545370a",
   "metadata": {},
   "outputs": [],
   "source": [
    "Total_products_ordered = sum(inventory.values())"
   ]
  },
  {
   "cell_type": "code",
   "execution_count": 89,
   "id": "20fb5056-6205-4b07-a4df-c84170edb6b7",
   "metadata": {},
   "outputs": [
    {
     "data": {
      "text/plain": [
       "0.83"
      ]
     },
     "execution_count": 89,
     "metadata": {},
     "output_type": "execute_result"
    }
   ],
   "source": [
    "Percentage_of_products_ordered = round((len(customer_orders)/sum(inventory.values()))*100,2)\n",
    "round(Percentage_of_products_ordered,2)"
   ]
  },
  {
   "cell_type": "code",
   "execution_count": 90,
   "id": "a01dbba9-3c8f-4d9e-a626-b1d88ef9b5d8",
   "metadata": {},
   "outputs": [
    {
     "name": "stdout",
     "output_type": "stream",
     "text": [
      "0.83 %\n"
     ]
    }
   ],
   "source": [
    "print(Percentage_of_products_ordered,\"%\")"
   ]
  },
  {
   "cell_type": "code",
   "execution_count": 91,
   "id": "823cc390-69d4-4dbd-8ff4-e9d6bce15c55",
   "metadata": {},
   "outputs": [
    {
     "data": {
      "text/plain": [
       "tuple"
      ]
     },
     "execution_count": 91,
     "metadata": {},
     "output_type": "execute_result"
    }
   ],
   "source": [
    "order_status=(Total_products_ordered,Percentage_of_products_ordered)\n",
    "type(order_status)"
   ]
  },
  {
   "cell_type": "code",
   "execution_count": 92,
   "id": "f980c2d4-05e3-4a41-a66f-885a76c337b9",
   "metadata": {},
   "outputs": [
    {
     "name": "stdout",
     "output_type": "stream",
     "text": [
      "Order Statistics:\n",
      "Total products ordered: 362\n",
      "Percentage of products ordered: 0.83%\n"
     ]
    }
   ],
   "source": [
    "print(f\"Order Statistics:\")\n",
    "print(f\"Total products ordered: {Total_products_ordered}\")\n",
    "print(f\"Percentage of products ordered: {Percentage_of_products_ordered}{\"%\"}\")"
   ]
  },
  {
   "cell_type": "code",
   "execution_count": 94,
   "id": "a84f0d32-cbe3-4147-ab79-96a2198e3cc9",
   "metadata": {},
   "outputs": [
    {
     "name": "stdout",
     "output_type": "stream",
     "text": [
      "{'t-shirt': 44, 'mug': 34, 'hat': 35, 'book': 233, 'keychain': 11}\n"
     ]
    }
   ],
   "source": [
    "for product in inventory:\n",
    "    inventory[product] -=1\n",
    "print(inventory)"
   ]
  },
  {
   "cell_type": "code",
   "execution_count": null,
   "id": "ae8baa92-7d85-4bee-b8f9-9e74eaac9c81",
   "metadata": {},
   "outputs": [],
   "source": []
  }
 ],
 "metadata": {
  "kernelspec": {
   "display_name": "Python 3",
   "language": "python",
   "name": "python3"
  },
  "language_info": {
   "codemirror_mode": {
    "name": "ipython",
    "version": 3
   },
   "file_extension": ".py",
   "mimetype": "text/x-python",
   "name": "python",
   "nbconvert_exporter": "python",
   "pygments_lexer": "ipython3",
   "version": "3.13.5"
  }
 },
 "nbformat": 4,
 "nbformat_minor": 5
}
